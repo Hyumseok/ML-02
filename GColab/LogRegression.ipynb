{
  "nbformat": 4,
  "nbformat_minor": 0,
  "metadata": {
    "colab": {
      "provenance": []
    },
    "kernelspec": {
      "name": "python3",
      "display_name": "Python 3"
    },
    "language_info": {
      "name": "python"
    }
  },
  "cells": [
    {
      "cell_type": "markdown",
      "source": [
        "**Sam Alim Ramadhan**\n",
        "\n",
        "**1103210236**\n",
        "\n",
        "**TK-45-05**\n",
        "\n",
        "**ML_02 [lecture_2 Logistic Regression, supermarket_sales.csv]**"
      ],
      "metadata": {
        "id": "rVqO0S4_Kfwt"
      }
    },
    {
      "cell_type": "code",
      "execution_count": 80,
      "metadata": {
        "id": "4m--q8EsKeuL"
      },
      "outputs": [],
      "source": [
        "import pandas as pd\n",
        "from sklearn.model_selection import train_test_split\n",
        "from sklearn.linear_model import LogisticRegression\n",
        "from sklearn.metrics import accuracy_score, classification_report, confusion_matrix\n",
        "from sklearn.preprocessing import LabelEncoder\n",
        "import matplotlib.pyplot as plt\n",
        "import seaborn as sns"
      ]
    },
    {
      "cell_type": "code",
      "source": [
        "# Baca dataset\n",
        "url = \"/content/drive/MyDrive/Machine Learning/supermarket_sales.csv\"\n",
        "df = pd.read_csv(url)"
      ],
      "metadata": {
        "id": "HTkPFpnWUuWn"
      },
      "execution_count": 81,
      "outputs": []
    },
    {
      "cell_type": "code",
      "source": [
        "# Menampilkan beberapa baris pertama dari dataset\n",
        "print(df.head())"
      ],
      "metadata": {
        "colab": {
          "base_uri": "https://localhost:8080/"
        },
        "id": "m9LNdU9dUy5x",
        "outputId": "348ae4f4-69d9-4e4f-8dde-9949f33b9355"
      },
      "execution_count": 82,
      "outputs": [
        {
          "output_type": "stream",
          "name": "stdout",
          "text": [
            "    Invoice ID Branch       City Customer type  Gender  \\\n",
            "0  750-67-8428      A     Yangon        Member  Female   \n",
            "1  226-31-3081      C  Naypyitaw        Normal  Female   \n",
            "2  631-41-3108      A     Yangon        Normal    Male   \n",
            "3  123-19-1176      A     Yangon        Member    Male   \n",
            "4  373-73-7910      A     Yangon        Normal    Male   \n",
            "\n",
            "             Product line  Unit price  Quantity   Tax 5%     Total       Date  \\\n",
            "0       Health and beauty       74.69         7  26.1415  548.9715   1/5/2019   \n",
            "1  Electronic accessories       15.28         5   3.8200   80.2200   3/8/2019   \n",
            "2      Home and lifestyle       46.33         7  16.2155  340.5255   3/3/2019   \n",
            "3       Health and beauty       58.22         8  23.2880  489.0480  1/27/2019   \n",
            "4       Sports and travel       86.31         7  30.2085  634.3785   2/8/2019   \n",
            "\n",
            "    Time      Payment    cogs  gross margin percentage  gross income  Rating  \n",
            "0  13:08      Ewallet  522.83                 4.761905       26.1415     9.1  \n",
            "1  10:29         Cash   76.40                 4.761905        3.8200     9.6  \n",
            "2  13:23  Credit card  324.31                 4.761905       16.2155     7.4  \n",
            "3  20:33      Ewallet  465.76                 4.761905       23.2880     8.4  \n",
            "4  10:37      Ewallet  604.17                 4.761905       30.2085     5.3  \n"
          ]
        }
      ]
    },
    {
      "cell_type": "code",
      "source": [
        "data = df.dropna()"
      ],
      "metadata": {
        "id": "xXKA4VjqZKE9"
      },
      "execution_count": 83,
      "outputs": []
    },
    {
      "cell_type": "code",
      "source": [
        "y = data['gross income']\n",
        "label_encoder = LabelEncoder()\n",
        "y = label_encoder.fit_transform(y)"
      ],
      "metadata": {
        "id": "rUVswLXRdJp6"
      },
      "execution_count": 84,
      "outputs": []
    },
    {
      "cell_type": "code",
      "source": [
        "# Memisahkan Fitur dan Target\n",
        "# Pisahkan fitur (X) dan target (y)\n",
        "X = data.drop(['gross income', 'Product line', 'Invoice ID'], axis=1)\n",
        "X = pd.get_dummies(X, columns = ['Gender', 'Branch', 'City', 'Customer type', 'Payment', 'Date', 'Time'],drop_first=True)"
      ],
      "metadata": {
        "id": "POnmv9nrlsek"
      },
      "execution_count": 85,
      "outputs": []
    },
    {
      "cell_type": "code",
      "source": [
        "# Membagi data pada menjadi data_train dan data_test\n",
        "X_train, X_test, y_train, y_test = train_test_split(X, y, test_size=0.2, random_state=42)"
      ],
      "metadata": {
        "id": "mAWTNz-eWlzi"
      },
      "execution_count": 86,
      "outputs": []
    },
    {
      "cell_type": "code",
      "source": [
        "# Inisialisasi model Logistic Regression\n",
        "model = LogisticRegression()"
      ],
      "metadata": {
        "id": "cPOY49FDVHLE"
      },
      "execution_count": 87,
      "outputs": []
    },
    {
      "cell_type": "code",
      "source": [
        "# Melatih model menggunakan data_train\n",
        "model.fit(X_train, y_train)"
      ],
      "metadata": {
        "colab": {
          "base_uri": "https://localhost:8080/",
          "height": 218
        },
        "id": "HdmyVFPBVXG5",
        "outputId": "d98b7c42-866b-4bbf-fe4d-3208cbf23b21"
      },
      "execution_count": 88,
      "outputs": [
        {
          "output_type": "stream",
          "name": "stderr",
          "text": [
            "/usr/local/lib/python3.10/dist-packages/sklearn/linear_model/_logistic.py:458: ConvergenceWarning: lbfgs failed to converge (status=1):\n",
            "STOP: TOTAL NO. of ITERATIONS REACHED LIMIT.\n",
            "\n",
            "Increase the number of iterations (max_iter) or scale the data as shown in:\n",
            "    https://scikit-learn.org/stable/modules/preprocessing.html\n",
            "Please also refer to the documentation for alternative solver options:\n",
            "    https://scikit-learn.org/stable/modules/linear_model.html#logistic-regression\n",
            "  n_iter_i = _check_optimize_result(\n"
          ]
        },
        {
          "output_type": "execute_result",
          "data": {
            "text/plain": [
              "LogisticRegression()"
            ],
            "text/html": [
              "<style>#sk-container-id-2 {color: black;background-color: white;}#sk-container-id-2 pre{padding: 0;}#sk-container-id-2 div.sk-toggleable {background-color: white;}#sk-container-id-2 label.sk-toggleable__label {cursor: pointer;display: block;width: 100%;margin-bottom: 0;padding: 0.3em;box-sizing: border-box;text-align: center;}#sk-container-id-2 label.sk-toggleable__label-arrow:before {content: \"▸\";float: left;margin-right: 0.25em;color: #696969;}#sk-container-id-2 label.sk-toggleable__label-arrow:hover:before {color: black;}#sk-container-id-2 div.sk-estimator:hover label.sk-toggleable__label-arrow:before {color: black;}#sk-container-id-2 div.sk-toggleable__content {max-height: 0;max-width: 0;overflow: hidden;text-align: left;background-color: #f0f8ff;}#sk-container-id-2 div.sk-toggleable__content pre {margin: 0.2em;color: black;border-radius: 0.25em;background-color: #f0f8ff;}#sk-container-id-2 input.sk-toggleable__control:checked~div.sk-toggleable__content {max-height: 200px;max-width: 100%;overflow: auto;}#sk-container-id-2 input.sk-toggleable__control:checked~label.sk-toggleable__label-arrow:before {content: \"▾\";}#sk-container-id-2 div.sk-estimator input.sk-toggleable__control:checked~label.sk-toggleable__label {background-color: #d4ebff;}#sk-container-id-2 div.sk-label input.sk-toggleable__control:checked~label.sk-toggleable__label {background-color: #d4ebff;}#sk-container-id-2 input.sk-hidden--visually {border: 0;clip: rect(1px 1px 1px 1px);clip: rect(1px, 1px, 1px, 1px);height: 1px;margin: -1px;overflow: hidden;padding: 0;position: absolute;width: 1px;}#sk-container-id-2 div.sk-estimator {font-family: monospace;background-color: #f0f8ff;border: 1px dotted black;border-radius: 0.25em;box-sizing: border-box;margin-bottom: 0.5em;}#sk-container-id-2 div.sk-estimator:hover {background-color: #d4ebff;}#sk-container-id-2 div.sk-parallel-item::after {content: \"\";width: 100%;border-bottom: 1px solid gray;flex-grow: 1;}#sk-container-id-2 div.sk-label:hover label.sk-toggleable__label {background-color: #d4ebff;}#sk-container-id-2 div.sk-serial::before {content: \"\";position: absolute;border-left: 1px solid gray;box-sizing: border-box;top: 0;bottom: 0;left: 50%;z-index: 0;}#sk-container-id-2 div.sk-serial {display: flex;flex-direction: column;align-items: center;background-color: white;padding-right: 0.2em;padding-left: 0.2em;position: relative;}#sk-container-id-2 div.sk-item {position: relative;z-index: 1;}#sk-container-id-2 div.sk-parallel {display: flex;align-items: stretch;justify-content: center;background-color: white;position: relative;}#sk-container-id-2 div.sk-item::before, #sk-container-id-2 div.sk-parallel-item::before {content: \"\";position: absolute;border-left: 1px solid gray;box-sizing: border-box;top: 0;bottom: 0;left: 50%;z-index: -1;}#sk-container-id-2 div.sk-parallel-item {display: flex;flex-direction: column;z-index: 1;position: relative;background-color: white;}#sk-container-id-2 div.sk-parallel-item:first-child::after {align-self: flex-end;width: 50%;}#sk-container-id-2 div.sk-parallel-item:last-child::after {align-self: flex-start;width: 50%;}#sk-container-id-2 div.sk-parallel-item:only-child::after {width: 0;}#sk-container-id-2 div.sk-dashed-wrapped {border: 1px dashed gray;margin: 0 0.4em 0.5em 0.4em;box-sizing: border-box;padding-bottom: 0.4em;background-color: white;}#sk-container-id-2 div.sk-label label {font-family: monospace;font-weight: bold;display: inline-block;line-height: 1.2em;}#sk-container-id-2 div.sk-label-container {text-align: center;}#sk-container-id-2 div.sk-container {/* jupyter's `normalize.less` sets `[hidden] { display: none; }` but bootstrap.min.css set `[hidden] { display: none !important; }` so we also need the `!important` here to be able to override the default hidden behavior on the sphinx rendered scikit-learn.org. See: https://github.com/scikit-learn/scikit-learn/issues/21755 */display: inline-block !important;position: relative;}#sk-container-id-2 div.sk-text-repr-fallback {display: none;}</style><div id=\"sk-container-id-2\" class=\"sk-top-container\"><div class=\"sk-text-repr-fallback\"><pre>LogisticRegression()</pre><b>In a Jupyter environment, please rerun this cell to show the HTML representation or trust the notebook. <br />On GitHub, the HTML representation is unable to render, please try loading this page with nbviewer.org.</b></div><div class=\"sk-container\" hidden><div class=\"sk-item\"><div class=\"sk-estimator sk-toggleable\"><input class=\"sk-toggleable__control sk-hidden--visually\" id=\"sk-estimator-id-2\" type=\"checkbox\" checked><label for=\"sk-estimator-id-2\" class=\"sk-toggleable__label sk-toggleable__label-arrow\">LogisticRegression</label><div class=\"sk-toggleable__content\"><pre>LogisticRegression()</pre></div></div></div></div></div>"
            ]
          },
          "metadata": {},
          "execution_count": 88
        }
      ]
    },
    {
      "cell_type": "code",
      "source": [
        "# Prediksi pada data_test\n",
        "y_pred = model.predict(X_test)"
      ],
      "metadata": {
        "id": "cn-4Ix7nVilu"
      },
      "execution_count": 89,
      "outputs": []
    },
    {
      "cell_type": "code",
      "source": [
        "# Evaluasi model\n",
        "accuracy = accuracy_score(y_test, y_pred)\n",
        "conf_matrix = confusion_matrix(y_test, y_pred)\n",
        "class_report = classification_report(y_test, y_pred)"
      ],
      "metadata": {
        "colab": {
          "base_uri": "https://localhost:8080/"
        },
        "id": "-qTaRHDzl8HS",
        "outputId": "782af575-1a51-45b8-c0f0-6e86f317058a"
      },
      "execution_count": 90,
      "outputs": [
        {
          "output_type": "stream",
          "name": "stderr",
          "text": [
            "/usr/local/lib/python3.10/dist-packages/sklearn/metrics/_classification.py:1344: UndefinedMetricWarning: Precision and F-score are ill-defined and being set to 0.0 in labels with no predicted samples. Use `zero_division` parameter to control this behavior.\n",
            "  _warn_prf(average, modifier, msg_start, len(result))\n",
            "/usr/local/lib/python3.10/dist-packages/sklearn/metrics/_classification.py:1344: UndefinedMetricWarning: Recall and F-score are ill-defined and being set to 0.0 in labels with no true samples. Use `zero_division` parameter to control this behavior.\n",
            "  _warn_prf(average, modifier, msg_start, len(result))\n",
            "/usr/local/lib/python3.10/dist-packages/sklearn/metrics/_classification.py:1344: UndefinedMetricWarning: Precision and F-score are ill-defined and being set to 0.0 in labels with no predicted samples. Use `zero_division` parameter to control this behavior.\n",
            "  _warn_prf(average, modifier, msg_start, len(result))\n",
            "/usr/local/lib/python3.10/dist-packages/sklearn/metrics/_classification.py:1344: UndefinedMetricWarning: Recall and F-score are ill-defined and being set to 0.0 in labels with no true samples. Use `zero_division` parameter to control this behavior.\n",
            "  _warn_prf(average, modifier, msg_start, len(result))\n",
            "/usr/local/lib/python3.10/dist-packages/sklearn/metrics/_classification.py:1344: UndefinedMetricWarning: Precision and F-score are ill-defined and being set to 0.0 in labels with no predicted samples. Use `zero_division` parameter to control this behavior.\n",
            "  _warn_prf(average, modifier, msg_start, len(result))\n",
            "/usr/local/lib/python3.10/dist-packages/sklearn/metrics/_classification.py:1344: UndefinedMetricWarning: Recall and F-score are ill-defined and being set to 0.0 in labels with no true samples. Use `zero_division` parameter to control this behavior.\n",
            "  _warn_prf(average, modifier, msg_start, len(result))\n"
          ]
        }
      ]
    },
    {
      "cell_type": "code",
      "source": [
        "# Hasil evaluasi\n",
        "print(f'Accuracy: {accuracy}')\n",
        "print(f'Confusion Matrix:\\n{conf_matrix}')\n",
        "print(f'Classification Report:\\n{class_report}')"
      ],
      "metadata": {
        "colab": {
          "base_uri": "https://localhost:8080/"
        },
        "id": "ouCoC1JnmA37",
        "outputId": "a348f5f1-6ef4-47ad-fc91-16774292badb"
      },
      "execution_count": 91,
      "outputs": [
        {
          "output_type": "stream",
          "name": "stdout",
          "text": [
            "Accuracy: 0.005\n",
            "Confusion Matrix:\n",
            "[[0 0 0 ... 0 0 0]\n",
            " [0 0 0 ... 0 0 0]\n",
            " [0 0 0 ... 0 0 0]\n",
            " ...\n",
            " [0 0 0 ... 0 0 0]\n",
            " [0 0 0 ... 0 0 1]\n",
            " [0 0 0 ... 0 0 0]]\n",
            "Classification Report:\n",
            "              precision    recall  f1-score   support\n",
            "\n",
            "           0       0.00      0.00      0.00         1\n",
            "          10       0.00      0.00      0.00         1\n",
            "          12       0.00      0.00      0.00         1\n",
            "          22       0.00      0.00      0.00         1\n",
            "          28       0.00      0.00      0.00         1\n",
            "          34       0.00      0.00      0.00         1\n",
            "          39       0.00      0.00      0.00         1\n",
            "          40       0.00      0.00      0.00         1\n",
            "          43       0.00      0.00      0.00         0\n",
            "          46       0.00      0.00      0.00         1\n",
            "          48       0.00      0.00      0.00         1\n",
            "          51       0.00      0.00      0.00         1\n",
            "          54       0.00      0.00      0.00         1\n",
            "          57       0.00      0.00      0.00         1\n",
            "          60       0.00      0.00      0.00         1\n",
            "          61       0.00      0.00      0.00         1\n",
            "          82       0.00      0.00      0.00         1\n",
            "          85       0.00      0.00      0.00         0\n",
            "          86       0.00      0.00      0.00         1\n",
            "          89       0.00      0.00      0.00         0\n",
            "          90       0.00      0.00      0.00         1\n",
            "          92       0.00      0.00      0.00         1\n",
            "          96       0.00      0.00      0.00         1\n",
            "         100       0.00      0.00      0.00         1\n",
            "         102       0.00      0.00      0.00         1\n",
            "         103       0.00      0.00      0.00         1\n",
            "         105       0.00      0.00      0.00         1\n",
            "         108       0.00      0.00      0.00         1\n",
            "         119       0.00      0.00      0.00         1\n",
            "         123       0.00      0.00      0.00         1\n",
            "         125       0.00      0.00      0.00         1\n",
            "         129       0.00      0.00      0.00         1\n",
            "         136       0.00      0.00      0.00         1\n",
            "         155       0.00      0.00      0.00         1\n",
            "         156       0.00      0.00      0.00         1\n",
            "         159       0.00      0.00      0.00         0\n",
            "         162       0.00      0.00      0.00         1\n",
            "         164       0.00      0.00      0.00         0\n",
            "         167       0.00      0.00      0.00         1\n",
            "         168       0.00      0.00      0.00         1\n",
            "         170       0.00      0.00      0.00         1\n",
            "         183       0.00      0.00      0.00         1\n",
            "         186       0.00      0.00      0.00         0\n",
            "         188       0.00      0.00      0.00         1\n",
            "         190       0.00      0.00      0.00         1\n",
            "         194       0.00      0.00      0.00         1\n",
            "         209       0.00      0.00      0.00         1\n",
            "         220       0.00      0.00      0.00         1\n",
            "         222       0.00      0.00      0.00         1\n",
            "         237       0.00      0.00      0.00         1\n",
            "         242       0.00      0.00      0.00         1\n",
            "         251       0.00      0.00      0.00         1\n",
            "         254       0.00      0.00      0.00         1\n",
            "         255       0.00      0.00      0.00         1\n",
            "         256       0.00      0.00      0.00         1\n",
            "         260       0.00      0.00      0.00         1\n",
            "         262       0.00      0.00      0.00         1\n",
            "         269       0.00      0.00      0.00         1\n",
            "         275       0.00      0.00      0.00         1\n",
            "         276       0.00      0.00      0.00         1\n",
            "         282       0.00      0.00      0.00         1\n",
            "         287       0.00      0.00      0.00         1\n",
            "         290       0.00      0.00      0.00         1\n",
            "         294       0.00      0.00      0.00         1\n",
            "         298       0.00      0.00      0.00         1\n",
            "         299       0.00      0.00      0.00         1\n",
            "         300       0.00      0.00      0.00         1\n",
            "         302       0.00      0.00      0.00         1\n",
            "         313       0.00      0.00      0.00         1\n",
            "         330       0.00      0.00      0.00         1\n",
            "         336       0.00      0.00      0.00         1\n",
            "         338       0.00      0.00      0.00         1\n",
            "         341       0.00      0.00      0.00         1\n",
            "         346       0.00      0.00      0.00         0\n",
            "         347       0.00      0.00      0.00         1\n",
            "         352       0.00      0.00      0.00         1\n",
            "         354       0.00      0.00      0.00         1\n",
            "         358       0.00      0.00      0.00         0\n",
            "         366       0.00      0.00      0.00         1\n",
            "         368       0.00      0.00      0.00         1\n",
            "         379       0.00      0.00      0.00         1\n",
            "         384       0.00      0.00      0.00         1\n",
            "         385       0.00      0.00      0.00         0\n",
            "         386       0.00      0.00      0.00         1\n",
            "         390       0.00      0.00      0.00         1\n",
            "         391       0.00      0.00      0.00         1\n",
            "         392       0.00      0.00      0.00         1\n",
            "         398       0.00      0.00      0.00         1\n",
            "         404       0.00      0.00      0.00         1\n",
            "         429       0.00      0.00      0.00         1\n",
            "         431       0.00      0.00      0.00         1\n",
            "         434       0.00      0.00      0.00         1\n",
            "         437       0.00      0.00      0.00         1\n",
            "         440       0.00      0.00      0.00         1\n",
            "         442       0.00      0.00      0.00         2\n",
            "         445       0.00      0.00      0.00         0\n",
            "         447       0.00      0.00      0.00         1\n",
            "         448       0.00      0.00      0.00         1\n",
            "         450       0.00      0.00      0.00         1\n",
            "         458       0.00      0.00      0.00         1\n",
            "         461       0.00      0.00      0.00         1\n",
            "         463       0.00      0.00      0.00         1\n",
            "         470       0.00      0.00      0.00         1\n",
            "         472       0.00      0.00      0.00         1\n",
            "         474       0.00      0.00      0.00         0\n",
            "         482       0.00      0.00      0.00         1\n",
            "         487       0.00      0.00      0.00         1\n",
            "         488       0.00      0.00      0.00         1\n",
            "         490       0.00      0.00      0.00         1\n",
            "         501       0.00      0.00      0.00         1\n",
            "         502       0.00      0.00      0.00         1\n",
            "         506       0.00      0.00      0.00         0\n",
            "         513       0.00      0.00      0.00         1\n",
            "         516       0.00      0.00      0.00         1\n",
            "         525       0.00      0.00      0.00         1\n",
            "         532       0.00      0.00      0.00         1\n",
            "         544       0.00      0.00      0.00         1\n",
            "         548       0.00      0.00      0.00         1\n",
            "         552       0.00      0.00      0.00         1\n",
            "         562       0.00      0.00      0.00         1\n",
            "         566       0.00      0.00      0.00         1\n",
            "         568       0.00      0.00      0.00         1\n",
            "         572       0.00      0.00      0.00         1\n",
            "         577       0.00      0.00      0.00         1\n",
            "         588       0.00      0.00      0.00         1\n",
            "         596       0.00      0.00      0.00         1\n",
            "         599       0.00      0.00      0.00         1\n",
            "         601       0.00      0.00      0.00         1\n",
            "         611       0.00      0.00      0.00         1\n",
            "         612       0.00      0.00      0.00         1\n",
            "         617       0.00      0.00      0.00         1\n",
            "         623       0.00      0.00      0.00         1\n",
            "         643       0.00      0.00      0.00         1\n",
            "         645       0.00      0.00      0.00         1\n",
            "         647       0.00      0.00      0.00         1\n",
            "         650       0.00      0.00      0.00         1\n",
            "         651       0.00      0.00      0.00         1\n",
            "         653       0.00      0.00      0.00         1\n",
            "         655       0.00      0.00      0.00         1\n",
            "         659       0.00      0.00      0.00         1\n",
            "         664       0.00      0.00      0.00         1\n",
            "         665       0.00      0.00      0.00         1\n",
            "         666       0.00      0.00      0.00         1\n",
            "         672       0.00      0.00      0.00         1\n",
            "         673       0.00      0.00      0.00         0\n",
            "         675       0.00      0.00      0.00         1\n",
            "         678       0.00      0.00      0.00         1\n",
            "         685       0.00      0.00      0.00         1\n",
            "         689       0.00      0.00      0.00         1\n",
            "         690       0.00      0.00      0.00         0\n",
            "         694       0.00      0.00      0.00         1\n",
            "         699       0.00      0.00      0.00         1\n",
            "         701       0.00      0.00      0.00         1\n",
            "         702       0.00      0.00      0.00         1\n",
            "         713       0.00      0.00      0.00         1\n",
            "         717       0.00      0.00      0.00         1\n",
            "         724       0.00      0.00      0.00         1\n",
            "         728       0.00      0.00      0.00         1\n",
            "         730       0.00      0.00      0.00         1\n",
            "         733       0.00      0.00      0.00         1\n",
            "         739       0.00      0.00      0.00         0\n",
            "         746       0.00      0.00      0.00         1\n",
            "         750       0.00      0.00      0.00         0\n",
            "         753       0.00      0.00      0.00         1\n",
            "         759       0.00      0.00      0.00         1\n",
            "         760       0.00      0.00      0.00         1\n",
            "         761       0.00      0.00      0.00         1\n",
            "         764       0.00      0.00      0.00         1\n",
            "         765       0.00      0.00      0.00         0\n",
            "         770       0.00      0.00      0.00         0\n",
            "         771       0.00      0.00      0.00         1\n",
            "         779       0.00      0.00      0.00         0\n",
            "         782       0.00      0.00      0.00         1\n",
            "         784       0.00      0.00      0.00         1\n",
            "         785       0.00      0.00      0.00         1\n",
            "         793       0.00      0.00      0.00         0\n",
            "         806       0.00      0.00      0.00         0\n",
            "         809       0.00      0.00      0.00         0\n",
            "         811       0.00      0.00      0.00         0\n",
            "         814       0.00      0.00      0.00         1\n",
            "         820       0.00      0.00      0.00         1\n",
            "         824       0.00      0.00      0.00         1\n",
            "         825       0.00      0.00      0.00         0\n",
            "         826       0.00      0.00      0.00         1\n",
            "         829       0.00      0.00      0.00         1\n",
            "         835       0.00      0.00      0.00         1\n",
            "         836       0.00      0.00      0.00         1\n",
            "         840       0.00      0.00      0.00         1\n",
            "         841       0.00      0.00      0.00         1\n",
            "         842       0.00      0.00      0.00         1\n",
            "         843       0.00      0.00      0.00         0\n",
            "         844       0.00      0.00      0.00         0\n",
            "         845       0.00      0.00      0.00         1\n",
            "         846       0.00      0.00      0.00         0\n",
            "         853       0.00      0.00      0.00         0\n",
            "         855       0.00      0.00      0.00         1\n",
            "         867       0.00      0.00      0.00         1\n",
            "         871       0.00      0.00      0.00         0\n",
            "         873       0.00      0.00      0.00         1\n",
            "         880       0.00      0.00      0.00         1\n",
            "         881       0.00      0.00      0.00         1\n",
            "         882       0.00      0.00      0.00         1\n",
            "         888       0.00      0.00      0.00         1\n",
            "         890       0.00      0.00      0.00         0\n",
            "         893       0.00      0.00      0.00         1\n",
            "         894       0.00      0.00      0.00         1\n",
            "         897       0.00      0.00      0.00         1\n",
            "         901       0.00      0.00      0.00         0\n",
            "         904       0.00      0.00      0.00         1\n",
            "         908       0.00      0.00      0.00         1\n",
            "         913       0.00      0.00      0.00         1\n",
            "         916       0.00      0.00      0.00         1\n",
            "         918       0.00      0.00      0.00         1\n",
            "         921       0.00      0.00      0.00         0\n",
            "         923       0.00      0.00      0.00         1\n",
            "         928       0.00      0.00      0.00         1\n",
            "         929       0.00      0.00      0.00         1\n",
            "         932       0.00      0.00      0.00         1\n",
            "         938       0.00      0.00      0.00         0\n",
            "         939       0.00      0.00      0.00         1\n",
            "         940       0.00      0.00      0.00         1\n",
            "         942       0.20      1.00      0.33         1\n",
            "         945       0.00      0.00      0.00         0\n",
            "         949       0.00      0.00      0.00         1\n",
            "         953       0.00      0.00      0.00         1\n",
            "         961       0.00      0.00      0.00         0\n",
            "         965       0.00      0.00      0.00         1\n",
            "         967       0.00      0.00      0.00         1\n",
            "         968       0.00      0.00      0.00         1\n",
            "         970       0.00      0.00      0.00         1\n",
            "         973       0.00      0.00      0.00         0\n",
            "         974       0.00      0.00      0.00         1\n",
            "         975       0.00      0.00      0.00         1\n",
            "         977       0.00      0.00      0.00         1\n",
            "         978       0.00      0.00      0.00         0\n",
            "         980       0.00      0.00      0.00         1\n",
            "         984       0.00      0.00      0.00         0\n",
            "\n",
            "    accuracy                           0.01       200\n",
            "   macro avg       0.00      0.00      0.00       200\n",
            "weighted avg       0.00      0.01      0.00       200\n",
            "\n"
          ]
        }
      ]
    },
    {
      "cell_type": "code",
      "source": [
        "# Confusion Matrix Heatmap\n",
        "plt.figure(figsize=(8, 6))\n",
        "sns.heatmap(conf_matrix, annot=True, fmt='d', cmap='Blues', cbar=False)\n",
        "plt.title('Confusion Matrix')\n",
        "plt.xlabel('Predicted')\n",
        "plt.ylabel('Actual')\n",
        "plt.show()"
      ],
      "metadata": {
        "colab": {
          "base_uri": "https://localhost:8080/",
          "height": 577
        },
        "id": "6f-JBpc6VoZx",
        "outputId": "22102315-78c6-4125-8a9c-c23e3ec2c181"
      },
      "execution_count": 92,
      "outputs": [
        {
          "output_type": "display_data",
          "data": {
            "text/plain": [
              "<Figure size 800x600 with 1 Axes>"
            ],
            "image/png": "[encoded data removed]"
          },
          "metadata": {}
        }
      ]
    }
  ]
}